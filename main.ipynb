{
 "cells": [
  {
   "cell_type": "code",
   "execution_count": 2,
   "id": "5095c6df",
   "metadata": {},
   "outputs": [
    {
     "name": "stderr",
     "output_type": "stream",
     "text": [
      "[nltk_data] Downloading package stopwords to\n",
      "[nltk_data]     C:\\Users\\yohoh\\AppData\\Roaming\\nltk_data...\n",
      "[nltk_data]   Package stopwords is already up-to-date!\n",
      "[nltk_data] Downloading package wordnet to\n",
      "[nltk_data]     C:\\Users\\yohoh\\AppData\\Roaming\\nltk_data...\n",
      "[nltk_data]   Package wordnet is already up-to-date!\n",
      "C:\\Users\\yohoh\\AppData\\Local\\Temp\\ipykernel_10704\\2394073317.py:35: FutureWarning: \n",
      "\n",
      "Passing `palette` without assigning `hue` is deprecated and will be removed in v0.14.0. Assign the `x` variable to `hue` and set `legend=False` for the same effect.\n",
      "\n",
      "  sns.barplot(x=class_counts.index, y=class_counts.values, palette='viridis')\n"
     ]
    },
    {
     "data": {
      "image/png": "[encoded data removed]",
      "text/plain": [
       "<Figure size 1000x600 with 1 Axes>"
      ]
     },
     "metadata": {},
     "output_type": "display_data"
    }
   ],
   "source": [
    "import pandas as pd\n",
    "import re\n",
    "import nltk\n",
    "from nltk.corpus import stopwords\n",
    "from nltk.stem import WordNetLemmatizer\n",
    "import matplotlib.pyplot as plt\n",
    "import seaborn as sns\n",
    "\n",
    "nltk.download('stopwords')\n",
    "nltk.download('wordnet')\n",
    "\n",
    "data_train = pd.read_csv('dataset/train.csv')\n",
    "\n",
    "lemmatizer = WordNetLemmatizer()\n",
    "stop_words = set(stopwords.words('english'))\n",
    "\n",
    "def clean_text(text):\n",
    "    text = re.sub(r'[^A-Za-z\\s]', '', text)\n",
    "    \n",
    "    text = text.lower()\n",
    "    \n",
    "    tokens = text.split()\n",
    "    tokens = [lemmatizer.lemmatize(word) for word in tokens if word not in stop_words]\n",
    "    \n",
    "    cleaned_text = ' '.join(tokens)\n",
    "    \n",
    "    return cleaned_text\n",
    "\n",
    "data_train['Description'] = data_train['Description'].apply(clean_text)\n",
    "\n",
    "\n",
    "class_counts = data_train['Class Index'].value_counts()\n",
    "\n",
    "plt.figure(figsize=(10,6))\n",
    "sns.barplot(x=class_counts.index, y=class_counts.values, palette='viridis')\n",
    "\n",
    "plt.title('Class Distribution', fontsize=14)\n",
    "plt.xlabel('Class', fontsize=12)\n",
    "plt.ylabel('Frequency', fontsize=12)\n",
    "plt.xticks(rotation=90)\n",
    "plt.tight_layout()\n",
    "\n",
    "plt.show()\n"
   ]
  },
  {
   "cell_type": "code",
   "execution_count": 3,
   "id": "ba8c7eb8",
   "metadata": {},
   "outputs": [],
   "source": [
    "import torch # type: ignore\n",
    "import numpy as np # type: ignore\n",
    "import random\n",
    "import os\n",
    "device = 'cuda' if torch.cuda.is_available() else 'cpu'\n",
    "\n",
    "def set_seed(seed: int) -> None:\n",
    "    random.seed(seed)\n",
    "    np.random.seed(seed)\n",
    "    torch.manual_seed(seed)\n",
    "    torch.cuda.manual_seed(seed)\n",
    "    torch.cuda.manual_seed_all(seed) \n",
    "\n",
    "    os.environ[\"PYTHONHASHSEED\"] = str(seed) \n",
    "    torch.backends.cudnn.deterministic = True\n",
    "    torch.backends.cudnn.benchmark = False "
   ]
  },
  {
   "cell_type": "code",
   "execution_count": 4,
   "id": "e5759cc3",
   "metadata": {},
   "outputs": [],
   "source": [
    "from sklearn.utils import shuffle # type: ignore\n",
    "\n",
    "def create_binary_df(df1, df2, label1=0, label2=1, random_state=42):\n",
    "    df1 = df1.copy()\n",
    "    df2 = df2.copy()\n",
    "    df1['label'] = label1\n",
    "    df2['label'] = label2\n",
    "    combined = pd.concat([df1, df2], ignore_index=True)\n",
    "    combined = shuffle(combined, random_state=random_state)\n",
    "    return combined\n"
   ]
  },
  {
   "cell_type": "code",
   "execution_count": 5,
   "id": "30810eb2",
   "metadata": {},
   "outputs": [
    {
     "data": {
      "application/vnd.microsoft.datawrangler.viewer.v0+json": {
       "columns": [
        {
         "name": "index",
         "rawType": "int64",
         "type": "integer"
        },
        {
         "name": "Class Index",
         "rawType": "int64",
         "type": "integer"
        },
        {
         "name": "Title",
         "rawType": "object",
         "type": "string"
        },
        {
         "name": "Description",
         "rawType": "object",
         "type": "string"
        },
        {
         "name": "label",
         "rawType": "object",
         "type": "string"
        }
       ],
       "conversionMethod": "pd.DataFrame",
       "ref": "069fda28-e7bf-4d91-9af4-05e262e980fa",
       "rows": [
        [
         "0",
         "3",
         "Fears for T N pension after talks",
         "union representing worker turner newall say disappointed talk stricken parent firm federal mogul",
         "Business"
        ],
        [
         "1",
         "4",
         "The Race is On: Second Private Team Sets Launch Date for Human Spaceflight (SPACE.com)",
         "spacecom toronto canada secondteam rocketeers competing million ansari x prize contest forprivately funded suborbital space flight officially announced firstlaunch date manned rocket",
         "Sci/Tech"
        ],
        [
         "2",
         "4",
         "Ky. Company Wins Grant to Study Peptides (AP)",
         "ap company founded chemistry researcher university louisville grant develop method producing better peptide short chain amino acid building block protein",
         "Sci/Tech"
        ],
        [
         "3",
         "4",
         "Prediction Unit Helps Forecast Wildfires (AP)",
         "ap barely dawn mike fitzpatrick start shift blur colorful map figure endless chart already know day bring lightning strike place expects wind pick moist place dry flame roar",
         "Sci/Tech"
        ],
        [
         "4",
         "4",
         "Calif. Aims to Limit Farm-Related Smog (AP)",
         "ap southern california smogfighting agency went emission bovine variety friday adopting nation first rule reduce air pollution dairy cow manure",
         "Sci/Tech"
        ]
       ],
       "shape": {
        "columns": 4,
        "rows": 5
       }
      },
      "text/html": [
       "<div>\n",
       "<style scoped>\n",
       "    .dataframe tbody tr th:only-of-type {\n",
       "        vertical-align: middle;\n",
       "    }\n",
       "\n",
       "    .dataframe tbody tr th {\n",
       "        vertical-align: top;\n",
       "    }\n",
       "\n",
       "    .dataframe thead th {\n",
       "        text-align: right;\n",
       "    }\n",
       "</style>\n",
       "<table border=\"1\" class=\"dataframe\">\n",
       "  <thead>\n",
       "    <tr style=\"text-align: right;\">\n",
       "      <th></th>\n",
       "      <th>Class Index</th>\n",
       "      <th>Title</th>\n",
       "      <th>Description</th>\n",
       "      <th>label</th>\n",
       "    </tr>\n",
       "  </thead>\n",
       "  <tbody>\n",
       "    <tr>\n",
       "      <th>0</th>\n",
       "      <td>3</td>\n",
       "      <td>Fears for T N pension after talks</td>\n",
       "      <td>union representing worker turner newall say di...</td>\n",
       "      <td>Business</td>\n",
       "    </tr>\n",
       "    <tr>\n",
       "      <th>1</th>\n",
       "      <td>4</td>\n",
       "      <td>The Race is On: Second Private Team Sets Launc...</td>\n",
       "      <td>spacecom toronto canada secondteam rocketeers ...</td>\n",
       "      <td>Sci/Tech</td>\n",
       "    </tr>\n",
       "    <tr>\n",
       "      <th>2</th>\n",
       "      <td>4</td>\n",
       "      <td>Ky. Company Wins Grant to Study Peptides (AP)</td>\n",
       "      <td>ap company founded chemistry researcher univer...</td>\n",
       "      <td>Sci/Tech</td>\n",
       "    </tr>\n",
       "    <tr>\n",
       "      <th>3</th>\n",
       "      <td>4</td>\n",
       "      <td>Prediction Unit Helps Forecast Wildfires (AP)</td>\n",
       "      <td>ap barely dawn mike fitzpatrick start shift bl...</td>\n",
       "      <td>Sci/Tech</td>\n",
       "    </tr>\n",
       "    <tr>\n",
       "      <th>4</th>\n",
       "      <td>4</td>\n",
       "      <td>Calif. Aims to Limit Farm-Related Smog (AP)</td>\n",
       "      <td>ap southern california smogfighting agency wen...</td>\n",
       "      <td>Sci/Tech</td>\n",
       "    </tr>\n",
       "  </tbody>\n",
       "</table>\n",
       "</div>"
      ],
      "text/plain": [
       "   Class Index                                              Title  \\\n",
       "0            3                  Fears for T N pension after talks   \n",
       "1            4  The Race is On: Second Private Team Sets Launc...   \n",
       "2            4      Ky. Company Wins Grant to Study Peptides (AP)   \n",
       "3            4      Prediction Unit Helps Forecast Wildfires (AP)   \n",
       "4            4        Calif. Aims to Limit Farm-Related Smog (AP)   \n",
       "\n",
       "                                         Description     label  \n",
       "0  union representing worker turner newall say di...  Business  \n",
       "1  spacecom toronto canada secondteam rocketeers ...  Sci/Tech  \n",
       "2  ap company founded chemistry researcher univer...  Sci/Tech  \n",
       "3  ap barely dawn mike fitzpatrick start shift bl...  Sci/Tech  \n",
       "4  ap southern california smogfighting agency wen...  Sci/Tech  "
      ]
     },
     "execution_count": 5,
     "metadata": {},
     "output_type": "execute_result"
    }
   ],
   "source": [
    "from sklearn.model_selection import train_test_split\n",
    "\n",
    "\n",
    "class_dfs_train = {\n",
    "    \"World\": data_train[data_train[\"Class Index\"] == 1],\n",
    "    \"Sports\": data_train[data_train[\"Class Index\"] == 2],\n",
    "    \"Business\": data_train[data_train[\"Class Index\"] == 3],\n",
    "    \"Sci/Tech\": data_train[data_train[\"Class Index\"] == 4]\n",
    "}\n",
    "\n",
    "class_dfs_test = {\n",
    "    \"World\": data_test[data_test[\"Class Index\"] == 1],\n",
    "    \"Sports\": data_test[data_test[\"Class Index\"] == 2],\n",
    "    \"Business\": data_test[data_test[\"Class Index\"] == 3],\n",
    "    \"Sci/Tech\": data_test[data_test[\"Class Index\"] == 4]\n",
    "}\n",
    "\n",
    "df_1_train = create_binary_df(class_dfs_train['World'], class_dfs_train['Sports'], label1=1, label2=2)\n",
    "df_2_train = create_binary_df(class_dfs_train['World'], class_dfs_train['Business'], label1=1, label2=3)\n",
    "df_3_train = create_binary_df(class_dfs_train['World'], class_dfs_train['Sci/Tech'], label1=1, label2=4)\n",
    "df_4_train = create_binary_df(class_dfs_train['Sports'], class_dfs_train['Business'], label1=2, label2=3)\n",
    "df_5_train = create_binary_df(class_dfs_train['Sports'], class_dfs_train['Sci/Tech'], label1=2, label2=4)\n",
    "df_6_train = create_binary_df(class_dfs_train['Business'], class_dfs_train['Sci/Tech'], label1=3, label2=4)\n",
    "\n",
    "df_1_test = create_binary_df(class_dfs_test['World'], class_dfs_test['Sports'], label1=1, label2=2)\n",
    "df_2_test = create_binary_df(class_dfs_test['World'], class_dfs_test['Business'], label1=1, label2=3)\n",
    "df_3_test = create_binary_df(class_dfs_test['World'], class_dfs_test['Sci/Tech'], label1=1, label2=4)\n",
    "df_4_test = create_binary_df(class_dfs_test['Sports'], class_dfs_test['Business'], label1=2, label2=3)\n",
    "df_5_test = create_binary_df(class_dfs_test['Sports'], class_dfs_test['Sci/Tech'], label1=2, label2=4)\n",
    "df_6_test = create_binary_df(class_dfs_test['Business'], class_dfs_test['Sci/Tech'], label1=3, label2=4)\n",
    "\n",
    "label_map = {\n",
    "    1: 'World',\n",
    "    2: 'Sports',\n",
    "    3: 'Business',\n",
    "    4: 'Sci/Tech'\n",
    "}\n",
    "\n",
    "data_train['label'] = data_train['Class Index'].map(label_map)\n",
    "data_test['label'] = data_test['Class Index'].map(label_map)\n",
    "\n",
    "data_test.shape[0], data_train.shape[0]\n",
    "data_test.head()\n"
   ]
  },
  {
   "cell_type": "code",
   "execution_count": 6,
   "id": "5f0acabb",
   "metadata": {},
   "outputs": [
    {
     "name": "stdout",
     "output_type": "stream",
     "text": [
      "WARNING:tensorflow:From c:\\Users\\yohoh\\AppData\\Local\\Programs\\Python\\Python310\\lib\\site-packages\\tf_keras\\src\\losses.py:2976: The name tf.losses.sparse_softmax_cross_entropy is deprecated. Please use tf.compat.v1.losses.sparse_softmax_cross_entropy instead.\n",
      "\n"
     ]
    }
   ],
   "source": [
    "from sentence_transformers import SentenceTransformer # type: ignore\n",
    "\n",
    "sbert_model = SentenceTransformer('distiluse-base-multilingual-cased', local_files_only=True)\n",
    "\n",
    "def embed_df(df, text_column='Description'):\n",
    "    vectors = sbert_model.encode(df[text_column].tolist(), show_progress_bar=True)\n",
    "    return vectors\n"
   ]
  },
  {
   "cell_type": "code",
   "execution_count": 7,
   "id": "43a193da",
   "metadata": {},
   "outputs": [
    {
     "data": {
      "application/vnd.jupyter.widget-view+json": {
       "model_id": "6b34a8a4b7284fab87786e8c7780260f",
       "version_major": 2,
       "version_minor": 0
      },
      "text/plain": [
       "Batches:   0%|          | 0/1875 [00:00<?, ?it/s]"
      ]
     },
     "metadata": {},
     "output_type": "display_data"
    },
    {
     "data": {
      "application/vnd.jupyter.widget-view+json": {
       "model_id": "502e782ac7dd4795ab3a7763ae48a7fa",
       "version_major": 2,
       "version_minor": 0
      },
      "text/plain": [
       "Batches:   0%|          | 0/119 [00:00<?, ?it/s]"
      ]
     },
     "metadata": {},
     "output_type": "display_data"
    },
    {
     "data": {
      "application/vnd.jupyter.widget-view+json": {
       "model_id": "3c5301a532d34118a0dfb2e846176bcc",
       "version_major": 2,
       "version_minor": 0
      },
      "text/plain": [
       "Batches:   0%|          | 0/1875 [00:00<?, ?it/s]"
      ]
     },
     "metadata": {},
     "output_type": "display_data"
    },
    {
     "data": {
      "application/vnd.jupyter.widget-view+json": {
       "model_id": "79e66447630e4898b04a32d98831192a",
       "version_major": 2,
       "version_minor": 0
      },
      "text/plain": [
       "Batches:   0%|          | 0/119 [00:00<?, ?it/s]"
      ]
     },
     "metadata": {},
     "output_type": "display_data"
    },
    {
     "data": {
      "application/vnd.jupyter.widget-view+json": {
       "model_id": "59e5908d4ae343aaadb60ecfd90f56e8",
       "version_major": 2,
       "version_minor": 0
      },
      "text/plain": [
       "Batches:   0%|          | 0/1875 [00:00<?, ?it/s]"
      ]
     },
     "metadata": {},
     "output_type": "display_data"
    },
    {
     "data": {
      "application/vnd.jupyter.widget-view+json": {
       "model_id": "889780928a86454db3184d64a18b7459",
       "version_major": 2,
       "version_minor": 0
      },
      "text/plain": [
       "Batches:   0%|          | 0/119 [00:00<?, ?it/s]"
      ]
     },
     "metadata": {},
     "output_type": "display_data"
    },
    {
     "data": {
      "application/vnd.jupyter.widget-view+json": {
       "model_id": "06e656dfa2834505a062b2b991338e21",
       "version_major": 2,
       "version_minor": 0
      },
      "text/plain": [
       "Batches:   0%|          | 0/1875 [00:00<?, ?it/s]"
      ]
     },
     "metadata": {},
     "output_type": "display_data"
    },
    {
     "data": {
      "application/vnd.jupyter.widget-view+json": {
       "model_id": "5ba33777b18543b3be5aec425625c306",
       "version_major": 2,
       "version_minor": 0
      },
      "text/plain": [
       "Batches:   0%|          | 0/119 [00:00<?, ?it/s]"
      ]
     },
     "metadata": {},
     "output_type": "display_data"
    },
    {
     "data": {
      "application/vnd.jupyter.widget-view+json": {
       "model_id": "6e85acc7381a42b7b5565c5111671541",
       "version_major": 2,
       "version_minor": 0
      },
      "text/plain": [
       "Batches:   0%|          | 0/1875 [00:00<?, ?it/s]"
      ]
     },
     "metadata": {},
     "output_type": "display_data"
    },
    {
     "data": {
      "application/vnd.jupyter.widget-view+json": {
       "model_id": "b5216aace4cc46a2b34af81de3a8a0e0",
       "version_major": 2,
       "version_minor": 0
      },
      "text/plain": [
       "Batches:   0%|          | 0/119 [00:00<?, ?it/s]"
      ]
     },
     "metadata": {},
     "output_type": "display_data"
    },
    {
     "data": {
      "application/vnd.jupyter.widget-view+json": {
       "model_id": "e991f9cb79804f4bbf03a396f4815d74",
       "version_major": 2,
       "version_minor": 0
      },
      "text/plain": [
       "Batches:   0%|          | 0/1875 [00:00<?, ?it/s]"
      ]
     },
     "metadata": {},
     "output_type": "display_data"
    },
    {
     "data": {
      "application/vnd.jupyter.widget-view+json": {
       "model_id": "b3e4c4da45e8469993f4f57fcfa372b0",
       "version_major": 2,
       "version_minor": 0
      },
      "text/plain": [
       "Batches:   0%|          | 0/119 [00:00<?, ?it/s]"
      ]
     },
     "metadata": {},
     "output_type": "display_data"
    },
    {
     "data": {
      "application/vnd.jupyter.widget-view+json": {
       "model_id": "883d937218214898837f67aabf15c934",
       "version_major": 2,
       "version_minor": 0
      },
      "text/plain": [
       "Batches:   0%|          | 0/3750 [00:00<?, ?it/s]"
      ]
     },
     "metadata": {},
     "output_type": "display_data"
    },
    {
     "data": {
      "application/vnd.jupyter.widget-view+json": {
       "model_id": "e36827f125604f1fb77d13e3a23d752e",
       "version_major": 2,
       "version_minor": 0
      },
      "text/plain": [
       "Batches:   0%|          | 0/238 [00:00<?, ?it/s]"
      ]
     },
     "metadata": {},
     "output_type": "display_data"
    }
   ],
   "source": [
    "# 1. ikili set\n",
    "X1_train = embed_df(df_1_train)\n",
    "y1_train = df_1_train['label'].values\n",
    "X1_test = embed_df(df_1_test)\n",
    "y1_test = df_1_test['label'].values\n",
    "\n",
    "# 2. ikili set\n",
    "X2_train = embed_df(df_2_train)\n",
    "y2_train = df_2_train['label'].values\n",
    "X2_test = embed_df(df_2_test)\n",
    "y2_test = df_2_test['label'].values\n",
    "\n",
    "# 3. ikili set\n",
    "X3_train = embed_df(df_3_train)\n",
    "y3_train = df_3_train['label'].values\n",
    "X3_test = embed_df(df_3_test)\n",
    "y3_test = df_3_test['label'].values\n",
    "\n",
    "# 4. ikili set\n",
    "X4_train = embed_df(df_4_train)\n",
    "y4_train = df_4_train['label'].values\n",
    "X4_test = embed_df(df_4_test)\n",
    "y4_test = df_4_test['label'].values\n",
    "\n",
    "# 5. ikili set\n",
    "X5_train = embed_df(df_5_train)\n",
    "y5_train = df_5_train['label'].values\n",
    "X5_test = embed_df(df_5_test)\n",
    "y5_test = df_5_test['label'].values\n",
    "\n",
    "# 6. ikili set\n",
    "X6_train = embed_df(df_6_train)\n",
    "y6_train = df_6_train['label'].values\n",
    "X6_test = embed_df(df_6_test)\n",
    "y6_test = df_6_test['label'].values\n",
    "\n",
    "X_total_train = embed_df(data_train)\n",
    "y_total_train = data_train['label'].values\n",
    "X_total_test = embed_df(data_test)\n",
    "y_total_test = data_test['label'].values\n"
   ]
  },
  {
   "cell_type": "code",
   "execution_count": 8,
   "id": "a200cd66",
   "metadata": {},
   "outputs": [],
   "source": [
    "from torch import nn\n",
    "\n",
    "def init_weights(m):\n",
    "    if isinstance(m, nn.Linear):\n",
    "        torch.manual_seed(42)\n",
    "        nn.init.xavier_uniform_(m.weight)\n",
    "        nn.init.zeros_(m.bias)\n"
   ]
  },
  {
   "cell_type": "code",
   "execution_count": null,
   "id": "fe0500ec",
   "metadata": {},
   "outputs": [],
   "source": [
    "import torch\n",
    "import torch.nn as nn\n",
    "import torch.optim as optim\n",
    "from torch.utils.data import DataLoader, TensorDataset\n",
    "import numpy as np\n",
    "\n",
    "class BinaryClassifier(nn.Module):\n",
    "    def __init__(self, input_dim=768, num_heads=3):\n",
    "        super().__init__()\n",
    "        self.shared_layers = nn.Sequential(\n",
    "            nn.Linear(input_dim, 512),\n",
    "            nn.BatchNorm1d(512),\n",
    "            nn.ReLU(),\n",
    "            nn.Dropout(0.3),\n",
    "            nn.Linear(512, 256),\n",
    "            nn.ReLU(),\n",
    "            nn.Dropout(0.2),\n",
    "            nn.Linear(256, 128),\n",
    "            nn.ReLU()\n",
    "        )\n",
    "\n",
    "        self.heads = nn.ModuleList([\n",
    "            nn.Linear(128, 1) for _ in range(num_heads)\n",
    "        ])\n",
    "\n",
    "    def forward(self, x):\n",
    "        shared = self.shared_layers(x)\n",
    "        return [head(shared) for head in self.heads]\n",
    "\n",
    "\n",
    "def train_mode_with_bert_embeddings(\n",
    "    X, y,\n",
    "    input_dim=768,\n",
    "    epochs=10,\n",
    "    lr=1e-4,\n",
    "    batch_size=32,\n",
    "    device='cuda' if torch.cuda.is_available() else 'cpu'\n",
    "):\n",
    "    y = (y > y.min()).astype(np.int64)  # Binary\n",
    "    X_tensor = torch.tensor(X, dtype=torch.float32)\n",
    "    y_tensor = torch.tensor(y, dtype=torch.float32).unsqueeze(1)\n",
    "\n",
    "    dataset = TensorDataset(X_tensor, y_tensor)\n",
    "    dataloader = DataLoader(dataset, batch_size=batch_size, shuffle=True)\n",
    "\n",
    "    model = BinaryClassifier(input_dim=input_dim).to(device)\n",
    "    model.apply(init_weights)\n",
    "\n",
    "    criterion = nn.BCEWithLogitsLoss()\n",
    "    optimizer = optim.AdamW(model.parameters(), lr=lr)\n",
    "\n",
    "    model.train()\n",
    "    for epoch in range(1, epochs + 1):\n",
    "        total_loss = 0.0\n",
    "        for xb, yb in dataloader:\n",
    "            xb, yb = xb.to(device), yb.to(device)\n",
    "\n",
    "            optimizer.zero_grad()\n",
    "            logits = model(xb)\n",
    "            loss = criterion(logits, yb)\n",
    "            loss.backward()\n",
    "            optimizer.step()\n",
    "\n",
    "            total_loss += loss.item()\n",
    "\n",
    "        avg_loss = total_loss / len(dataloader)\n",
    "        print(f\"Epoch {epoch}/{epochs} - Loss: {avg_loss:.4f}\")\n",
    "\n",
    "    return model\n"
   ]
  },
  {
   "cell_type": "code",
   "execution_count": 37,
   "id": "6f3da501",
   "metadata": {},
   "outputs": [
    {
     "name": "stdout",
     "output_type": "stream",
     "text": [
      "Epoch 1/30 - Loss: 0.1483\n",
      "Epoch 2/30 - Loss: 0.1115\n",
      "Epoch 3/30 - Loss: 0.0969\n",
      "Epoch 4/30 - Loss: 0.0890\n",
      "Epoch 5/30 - Loss: 0.0824\n",
      "Epoch 6/30 - Loss: 0.0752\n",
      "Epoch 7/30 - Loss: 0.0681\n",
      "Epoch 8/30 - Loss: 0.0633\n",
      "Epoch 9/30 - Loss: 0.0574\n",
      "Epoch 10/30 - Loss: 0.0520\n",
      "Epoch 11/30 - Loss: 0.0499\n",
      "Epoch 12/30 - Loss: 0.0451\n",
      "Epoch 13/30 - Loss: 0.0425\n",
      "Epoch 14/30 - Loss: 0.0401\n",
      "Epoch 15/30 - Loss: 0.0355\n",
      "Epoch 16/30 - Loss: 0.0363\n",
      "Epoch 17/30 - Loss: 0.0329\n",
      "Epoch 18/30 - Loss: 0.0314\n",
      "Epoch 19/30 - Loss: 0.0288\n",
      "Epoch 20/30 - Loss: 0.0275\n",
      "Epoch 21/30 - Loss: 0.0253\n",
      "Epoch 22/30 - Loss: 0.0239\n",
      "Epoch 23/30 - Loss: 0.0225\n",
      "Epoch 24/30 - Loss: 0.0220\n",
      "Epoch 25/30 - Loss: 0.0202\n",
      "Epoch 26/30 - Loss: 0.0197\n",
      "Epoch 27/30 - Loss: 0.0186\n",
      "Epoch 28/30 - Loss: 0.0175\n",
      "Epoch 29/30 - Loss: 0.0177\n",
      "Epoch 30/30 - Loss: 0.0159\n",
      "Epoch 1/30 - Loss: 0.2309\n",
      "Epoch 2/30 - Loss: 0.1817\n",
      "Epoch 3/30 - Loss: 0.1645\n",
      "Epoch 4/30 - Loss: 0.1507\n",
      "Epoch 5/30 - Loss: 0.1392\n",
      "Epoch 6/30 - Loss: 0.1323\n",
      "Epoch 7/30 - Loss: 0.1237\n",
      "Epoch 8/30 - Loss: 0.1168\n",
      "Epoch 9/30 - Loss: 0.1078\n",
      "Epoch 10/30 - Loss: 0.1041\n",
      "Epoch 11/30 - Loss: 0.0980\n",
      "Epoch 12/30 - Loss: 0.0928\n",
      "Epoch 13/30 - Loss: 0.0849\n",
      "Epoch 14/30 - Loss: 0.0807\n",
      "Epoch 15/30 - Loss: 0.0766\n",
      "Epoch 16/30 - Loss: 0.0721\n",
      "Epoch 17/30 - Loss: 0.0671\n",
      "Epoch 18/30 - Loss: 0.0638\n",
      "Epoch 19/30 - Loss: 0.0623\n",
      "Epoch 20/30 - Loss: 0.0577\n",
      "Epoch 21/30 - Loss: 0.0546\n",
      "Epoch 22/30 - Loss: 0.0528\n",
      "Epoch 23/30 - Loss: 0.0502\n",
      "Epoch 24/30 - Loss: 0.0478\n",
      "Epoch 25/30 - Loss: 0.0470\n",
      "Epoch 26/30 - Loss: 0.0441\n",
      "Epoch 27/30 - Loss: 0.0419\n",
      "Epoch 28/30 - Loss: 0.0419\n",
      "Epoch 29/30 - Loss: 0.0392\n",
      "Epoch 30/30 - Loss: 0.0394\n",
      "Epoch 1/30 - Loss: 0.1923\n",
      "Epoch 2/30 - Loss: 0.1484\n",
      "Epoch 3/30 - Loss: 0.1314\n",
      "Epoch 4/30 - Loss: 0.1221\n",
      "Epoch 5/30 - Loss: 0.1137\n",
      "Epoch 6/30 - Loss: 0.1051\n",
      "Epoch 7/30 - Loss: 0.0989\n",
      "Epoch 8/30 - Loss: 0.0907\n",
      "Epoch 9/30 - Loss: 0.0836\n",
      "Epoch 10/30 - Loss: 0.0777\n",
      "Epoch 11/30 - Loss: 0.0755\n",
      "Epoch 12/30 - Loss: 0.0684\n",
      "Epoch 13/30 - Loss: 0.0638\n",
      "Epoch 14/30 - Loss: 0.0608\n",
      "Epoch 15/30 - Loss: 0.0561\n",
      "Epoch 16/30 - Loss: 0.0534\n",
      "Epoch 17/30 - Loss: 0.0497\n",
      "Epoch 18/30 - Loss: 0.0465\n",
      "Epoch 19/30 - Loss: 0.0434\n",
      "Epoch 20/30 - Loss: 0.0412\n",
      "Epoch 21/30 - Loss: 0.0397\n",
      "Epoch 22/30 - Loss: 0.0370\n",
      "Epoch 23/30 - Loss: 0.0347\n",
      "Epoch 24/30 - Loss: 0.0337\n",
      "Epoch 25/30 - Loss: 0.0319\n",
      "Epoch 26/30 - Loss: 0.0295\n",
      "Epoch 27/30 - Loss: 0.0274\n",
      "Epoch 28/30 - Loss: 0.0287\n",
      "Epoch 29/30 - Loss: 0.0270\n",
      "Epoch 30/30 - Loss: 0.0247\n",
      "Epoch 1/25 - Loss: 0.0987\n",
      "Epoch 2/25 - Loss: 0.0631\n",
      "Epoch 3/25 - Loss: 0.0578\n",
      "Epoch 4/25 - Loss: 0.0485\n",
      "Epoch 5/25 - Loss: 0.0440\n",
      "Epoch 6/25 - Loss: 0.0397\n",
      "Epoch 7/25 - Loss: 0.0355\n",
      "Epoch 8/25 - Loss: 0.0306\n",
      "Epoch 9/25 - Loss: 0.0279\n",
      "Epoch 10/25 - Loss: 0.0244\n",
      "Epoch 11/25 - Loss: 0.0217\n",
      "Epoch 12/25 - Loss: 0.0208\n",
      "Epoch 13/25 - Loss: 0.0182\n",
      "Epoch 14/25 - Loss: 0.0172\n",
      "Epoch 15/25 - Loss: 0.0159\n",
      "Epoch 16/25 - Loss: 0.0137\n",
      "Epoch 17/25 - Loss: 0.0142\n",
      "Epoch 18/25 - Loss: 0.0124\n",
      "Epoch 19/25 - Loss: 0.0118\n",
      "Epoch 20/25 - Loss: 0.0107\n",
      "Epoch 21/25 - Loss: 0.0100\n",
      "Epoch 22/25 - Loss: 0.0096\n",
      "Epoch 23/25 - Loss: 0.0090\n",
      "Epoch 24/25 - Loss: 0.0077\n",
      "Epoch 25/25 - Loss: 0.0090\n",
      "Epoch 1/30 - Loss: 0.0967\n",
      "Epoch 2/30 - Loss: 0.0629\n",
      "Epoch 3/30 - Loss: 0.0540\n",
      "Epoch 4/30 - Loss: 0.0479\n",
      "Epoch 5/30 - Loss: 0.0425\n",
      "Epoch 6/30 - Loss: 0.0385\n",
      "Epoch 7/30 - Loss: 0.0334\n",
      "Epoch 8/30 - Loss: 0.0308\n",
      "Epoch 9/30 - Loss: 0.0271\n",
      "Epoch 10/30 - Loss: 0.0254\n",
      "Epoch 11/30 - Loss: 0.0219\n",
      "Epoch 12/30 - Loss: 0.0206\n",
      "Epoch 13/30 - Loss: 0.0178\n",
      "Epoch 14/30 - Loss: 0.0157\n",
      "Epoch 15/30 - Loss: 0.0152\n",
      "Epoch 16/30 - Loss: 0.0148\n",
      "Epoch 17/30 - Loss: 0.0132\n",
      "Epoch 18/30 - Loss: 0.0119\n",
      "Epoch 19/30 - Loss: 0.0103\n",
      "Epoch 20/30 - Loss: 0.0109\n",
      "Epoch 21/30 - Loss: 0.0107\n",
      "Epoch 22/30 - Loss: 0.0095\n",
      "Epoch 23/30 - Loss: 0.0089\n",
      "Epoch 24/30 - Loss: 0.0074\n",
      "Epoch 25/30 - Loss: 0.0074\n",
      "Epoch 26/30 - Loss: 0.0071\n",
      "Epoch 27/30 - Loss: 0.0067\n",
      "Epoch 28/30 - Loss: 0.0073\n",
      "Epoch 29/30 - Loss: 0.0073\n",
      "Epoch 30/30 - Loss: 0.0065\n",
      "Epoch 1/40 - Loss: 0.3289\n",
      "Epoch 2/40 - Loss: 0.2760\n",
      "Epoch 3/40 - Loss: 0.2591\n"
     ]
    }
   ],
   "source": [
    "model_1 = train_mode_with_bert_embeddings(input_dim=X1_train.shape[1], X=X1_train, y=y1_train, epochs=30)\n",
    "model_2 = train_mode_with_bert_embeddings(input_dim=X2_train.shape[1], X=X2_train, y=y2_train, epochs=30) \n",
    "model_3 = train_mode_with_bert_embeddings(input_dim=X3_train.shape[1],X=X3_train, y=y3_train, epochs=30) \n",
    "model_4 = train_mode_with_bert_embeddings(input_dim=X4_train.shape[1], X=X4_train, y=y4_train, epochs=25) \n",
    "model_5 = train_mode_with_bert_embeddings(input_dim=X5_train.shape[1],X=X5_train, y=y5_train, epochs=30) \n",
    "model_6 = train_mode_with_bert_embeddings(input_dim=X6_train.shape[1],X=X6_train, y=y6_train, epochs=40) \n"
   ]
  },
  {
   "cell_type": "code",
   "execution_count": null,
   "id": "db754ed4",
   "metadata": {},
   "outputs": [
    {
     "name": "stdout",
     "output_type": "stream",
     "text": [
      "              precision    recall  f1-score   support\n",
      "\n",
      "           0       0.97      0.97      0.97      1900\n",
      "           1       0.97      0.97      0.97      1900\n",
      "\n",
      "    accuracy                           0.97      3800\n",
      "   macro avg       0.97      0.97      0.97      3800\n",
      "weighted avg       0.97      0.97      0.97      3800\n",
      "\n"
     ]
    },
    {
     "data": {
      "image/png": "[encoded data removed]",
      "text/plain": [
       "<Figure size 400x300 with 2 Axes>"
      ]
     },
     "metadata": {},
     "output_type": "display_data"
    },
    {
     "name": "stdout",
     "output_type": "stream",
     "text": [
      "              precision    recall  f1-score   support\n",
      "\n",
      "           0       0.95      0.95      0.95      1900\n",
      "           1       0.95      0.95      0.95      1900\n",
      "\n",
      "    accuracy                           0.95      3800\n",
      "   macro avg       0.95      0.95      0.95      3800\n",
      "weighted avg       0.95      0.95      0.95      3800\n",
      "\n"
     ]
    },
    {
     "data": {
      "image/png": "[encoded data removed]",
      "text/plain": [
       "<Figure size 400x300 with 2 Axes>"
      ]
     },
     "metadata": {},
     "output_type": "display_data"
    },
    {
     "name": "stdout",
     "output_type": "stream",
     "text": [
      "              precision    recall  f1-score   support\n",
      "\n",
      "           0       0.95      0.96      0.96      1900\n",
      "           1       0.96      0.95      0.96      1900\n",
      "\n",
      "    accuracy                           0.96      3800\n",
      "   macro avg       0.96      0.96      0.96      3800\n",
      "weighted avg       0.96      0.96      0.96      3800\n",
      "\n"
     ]
    },
    {
     "data": {
      "image/png": "[encoded data removed]",
      "text/plain": [
       "<Figure size 400x300 with 2 Axes>"
      ]
     },
     "metadata": {},
     "output_type": "display_data"
    },
    {
     "name": "stdout",
     "output_type": "stream",
     "text": [
      "              precision    recall  f1-score   support\n",
      "\n",
      "           0       0.98      0.99      0.98      1900\n",
      "           1       0.99      0.98      0.98      1900\n",
      "\n",
      "    accuracy                           0.98      3800\n",
      "   macro avg       0.98      0.98      0.98      3800\n",
      "weighted avg       0.98      0.98      0.98      3800\n",
      "\n"
     ]
    },
    {
     "data": {
      "image/png": "[encoded data removed]",
      "text/plain": [
       "<Figure size 400x300 with 2 Axes>"
      ]
     },
     "metadata": {},
     "output_type": "display_data"
    },
    {
     "name": "stdout",
     "output_type": "stream",
     "text": [
      "              precision    recall  f1-score   support\n",
      "\n",
      "           0       0.98      0.98      0.98      1900\n",
      "           1       0.98      0.98      0.98      1900\n",
      "\n",
      "    accuracy                           0.98      3800\n",
      "   macro avg       0.98      0.98      0.98      3800\n",
      "weighted avg       0.98      0.98      0.98      3800\n",
      "\n"
     ]
    },
    {
     "data": {
      "image/png": "[encoded data removed]",
      "text/plain": [
       "<Figure size 400x300 with 2 Axes>"
      ]
     },
     "metadata": {},
     "output_type": "display_data"
    },
    {
     "name": "stdout",
     "output_type": "stream",
     "text": [
      "              precision    recall  f1-score   support\n",
      "\n",
      "           0       0.91      0.91      0.91      1900\n",
      "           1       0.91      0.91      0.91      1900\n",
      "\n",
      "    accuracy                           0.91      3800\n",
      "   macro avg       0.91      0.91      0.91      3800\n",
      "weighted avg       0.91      0.91      0.91      3800\n",
      "\n"
     ]
    },
    {
     "data": {
      "image/png": "[encoded data removed]",
      "text/plain": [
       "<Figure size 400x300 with 2 Axes>"
      ]
     },
     "metadata": {},
     "output_type": "display_data"
    }
   ],
   "source": [
    "from sklearn.metrics import classification_report, confusion_matrix # type: ignore\n",
    "import seaborn as sns # type: ignore\n",
    "\n",
    "def evaluate_binary_model(model, X_test, y_test):\n",
    "    model.eval()\n",
    "    with torch.no_grad():\n",
    "        X_tensor = torch.tensor(X_test, dtype=torch.float32).to(device)\n",
    "        y_tensor = torch.tensor((y_test > y_test.min()).astype(np.int64)).to(device)  \n",
    "\n",
    "        preds_proba = model(X_tensor).cpu().numpy()\n",
    "        preds = (preds_proba > 0.5).astype(int).flatten()\n",
    "\n",
    "    print(classification_report(y_tensor.cpu().numpy(), preds))\n",
    "    cm = confusion_matrix(y_tensor.cpu().numpy(), preds)\n",
    "    plt.figure(figsize=(4,3))\n",
    "    sns.heatmap(cm, annot=True, fmt='d', cmap='Greens')\n",
    "    plt.xlabel('Tahmin')\n",
    "    plt.ylabel('Gerçek')\n",
    "    plt.title('Karmaşıklık Matrisi')\n",
    "    plt.show()\n",
    "\n",
    "\n",
    "evaluate_binary_model(model_1, X1_test, y1_test)\n",
    "evaluate_binary_model(model_2, X2_test, y2_test)\n",
    "evaluate_binary_model(model_3, X3_test, y3_test)\n",
    "evaluate_binary_model(model_4, X4_test, y4_test)\n",
    "evaluate_binary_model(model_5, X5_test, y5_test)\n",
    "evaluate_binary_model(model_6, X6_test, y6_test)\n"
   ]
  },
  {
   "cell_type": "code",
   "execution_count": null,
   "id": "883f3f12",
   "metadata": {},
   "outputs": [],
   "source": [
    "import torch\n",
    "import torch.nn as nn\n",
    "import torch.optim as optim\n",
    "from torch.utils.data import DataLoader, TensorDataset\n",
    "\n",
    "class MetaModel(nn.Module):\n",
    "    def __init__(self, input_dim=6, num_classes=4):\n",
    "        super(MetaModel, self).__init__()\n",
    "        self.model = nn.Sequential(\n",
    "            nn.Linear(input_dim, 64), \n",
    "            nn.ReLU(),\n",
    "            nn.Dropout(0.3), \n",
    "            nn.Linear(64, 32),\n",
    "            nn.ReLU(),\n",
    "            nn.Dropout(0.3),\n",
    "            nn.Linear(32, num_classes) \n",
    "        )\n",
    "\n",
    "    def forward(self, x):\n",
    "        return self.model(x)\n",
    "\n",
    "def train_meta_model(X, y, epochs=10, lr=1e-3, batch_size=32, device='cuda' if torch.cuda.is_available() else 'cpu'):\n",
    "    X_tensor = torch.tensor(X, dtype=torch.float32)\n",
    "    y_tensor = torch.tensor(y, dtype=torch.long)\n",
    "\n",
    "    dataset = TensorDataset(X_tensor, y_tensor)\n",
    "    dataloader = DataLoader(dataset, batch_size=batch_size, shuffle=True)\n",
    "\n",
    "    model = MetaModel(input_dim=X.shape[1], num_classes=4).to(device)\n",
    "    criterion = nn.CrossEntropyLoss()\n",
    "    optimizer = optim.Adam(model.parameters(), lr=lr)\n",
    "\n",
    "    model.train()\n",
    "    for epoch in range(epochs):\n",
    "        total_loss = 0\n",
    "        for xb, yb in dataloader:\n",
    "            xb, yb = xb.to(device), yb.to(device)\n",
    "\n",
    "            preds = model(xb)  \n",
    "            loss = criterion(preds, yb) \n",
    "\n",
    "            optimizer.zero_grad()\n",
    "            loss.backward()\n",
    "            optimizer.step()\n",
    "\n",
    "            total_loss += loss.item()\n",
    "\n",
    "        print(f\"Epoch {epoch+1}/{epochs} - Loss: {total_loss/len(dataloader):.4f}\")\n",
    "\n",
    "    return model\n"
   ]
  },
  {
   "cell_type": "code",
   "execution_count": null,
   "id": "5bb362b0",
   "metadata": {},
   "outputs": [],
   "source": [
    "def get_ensemble_predictions(models, X, device='cuda' if torch.cuda.is_available() else 'cpu'):\n",
    "    preds = []\n",
    "    X_tensor = torch.tensor(X, dtype=torch.float32).to(device)\n",
    "    for model in models:\n",
    "        model.eval()\n",
    "        with torch.no_grad():\n",
    "            pred = model(X_tensor)\n",
    "            pred_binary = (pred > 0.5).float()\n",
    "            preds.append(pred_binary.cpu().numpy())\n",
    "    return np.concatenate(preds, axis=1)\n"
   ]
  },
  {
   "cell_type": "code",
   "execution_count": null,
   "id": "a919b8f5",
   "metadata": {},
   "outputs": [],
   "source": [
    "import numpy as np # type: ignore\n",
    "\n",
    "X_all_train = np.concatenate([X1_train, X2_train, X3_train, X4_train], axis=0)\n",
    "y_all_train = np.concatenate([y1_train, y2_train, y3_train, y4_train], axis=0)\n",
    "\n",
    "X_all_train_unique, unique_indices = np.unique(X_all_train, axis=0, return_index=True)\n",
    "y_all_train_unique = y_all_train[unique_indices]\n",
    "\n",
    "X_all_test = np.concatenate([X1_test, X2_test, X3_test, X4_test], axis=0)\n",
    "y_all_test = np.concatenate([y1_test, y2_test, y3_test, y4_test], axis=0)\n",
    "\n",
    "X_all_test_unique, unique_indices_test = np.unique(X_all_test, axis=0, return_index=True)\n",
    "y_all_test_unique = y_all_test[unique_indices_test]\n",
    "\n",
    "ensemble_preds_train = get_ensemble_predictions(\n",
    "    [model_1, model_2, model_3, model_4, model_5, model_6],\n",
    "    X_total_train,\n",
    ")\n",
    "\n"
   ]
  },
  {
   "cell_type": "code",
   "execution_count": null,
   "id": "0d6ed4f8",
   "metadata": {},
   "outputs": [
   ],
   "source": [
    "reverse_label_map = {v: k for k, v in label_map.items()}\n",
    "\n",
    "y_total_train = np.array([reverse_label_map[label] for label in y_total_train])\n",
    "y_total_test = np.array([reverse_label_map[label] for label in y_total_test])\n",
    "\n",
    "y_total_train = y_total_train - 1\n",
    "y_total_test = y_total_test - 1\n",
    "\n",
    "\n",
    "y_total_train, y_total_test"
   ]
  },
  {
   "cell_type": "code",
   "execution_count": null,
   "id": "047ea755",
   "metadata": {},
   "outputs": [
    {
     "name": "stdout",
     "output_type": "stream",
     "text": [
      "Epoch 1/30 - Loss: 0.0817\n",
      "Epoch 2/30 - Loss: 0.0391\n",
      "Epoch 3/30 - Loss: 0.0384\n",
      "Epoch 4/30 - Loss: 0.0383\n",
      "Epoch 5/30 - Loss: 0.0376\n",
      "Epoch 6/30 - Loss: 0.0374\n",
      "Epoch 7/30 - Loss: 0.0372\n",
      "Epoch 8/30 - Loss: 0.0367\n",
      "Epoch 9/30 - Loss: 0.0361\n",
      "Epoch 10/30 - Loss: 0.0360\n",
      "Epoch 11/30 - Loss: 0.0367\n",
      "Epoch 12/30 - Loss: 0.0365\n",
      "Epoch 13/30 - Loss: 0.0356\n",
      "Epoch 14/30 - Loss: 0.0355\n",
      "Epoch 15/30 - Loss: 0.0352\n",
      "Epoch 16/30 - Loss: 0.0350\n",
      "Epoch 17/30 - Loss: 0.0353\n",
      "Epoch 18/30 - Loss: 0.0355\n",
      "Epoch 19/30 - Loss: 0.0350\n",
      "Epoch 20/30 - Loss: 0.0352\n",
      "Epoch 21/30 - Loss: 0.0351\n",
      "Epoch 22/30 - Loss: 0.0352\n",
      "Epoch 23/30 - Loss: 0.0347\n",
      "Epoch 24/30 - Loss: 0.0346\n",
      "Epoch 25/30 - Loss: 0.0348\n",
      "Epoch 26/30 - Loss: 0.0343\n",
      "Epoch 27/30 - Loss: 0.0344\n",
      "Epoch 28/30 - Loss: 0.0343\n",
      "Epoch 29/30 - Loss: 0.0351\n",
      "Epoch 30/30 - Loss: 0.0345\n"
     ]
    }
   ],
   "source": [
    "final_model = train_meta_model(ensemble_preds_train, y_total_train, epochs=30)\n"
   ]
  },
  {
   "cell_type": "code",
   "execution_count": null,
   "id": "efba963c",
   "metadata": {},
   "outputs": [
    {
     "name": "stdout",
     "output_type": "stream",
     "text": [
      "              precision    recall  f1-score   support\n",
      "\n",
      "           0       0.91      0.91      0.91      1900\n",
      "           1       0.95      0.96      0.96      1900\n",
      "           2       0.87      0.86      0.87      1900\n",
      "           3       0.88      0.88      0.88      1900\n",
      "\n",
      "    accuracy                           0.90      7600\n",
      "   macro avg       0.90      0.90      0.90      7600\n",
      "weighted avg       0.90      0.90      0.90      7600\n",
      "\n",
      "\n",
      "Kappa: 0.8707\n",
      "\n",
      "Accuracy: 0.9030\n"
     ]
    },
    {
     "data": {
      "image/png": "[encoded data removed]",
      "text/plain": [
       "<Figure size 800x600 with 2 Axes>"
      ]
     },
     "metadata": {},
     "output_type": "display_data"
    }
   ],
   "source": [
    "import torch # type: ignore\n",
    "import numpy as np # type: ignore\n",
    "\n",
    "\n",
    "ensemble_inputs = get_ensemble_predictions(\n",
    "    [model_1, model_2, model_3, model_4, model_5, model_6], \n",
    "    X_total_test\n",
    ")\n",
    "\n",
    "\n",
    "\n",
    "X_ens_tensor = torch.tensor(ensemble_inputs, dtype=torch.float32).to(device)\n",
    "\n",
    "final_model.eval()\n",
    "with torch.no_grad():\n",
    "    y_pred_logits = final_model(X_ens_tensor)\n",
    "    y_pred_proba = torch.softmax(y_pred_logits, dim=1).cpu().numpy()\n",
    "    y_pred = np.argmax(y_pred_proba, axis=1)\n",
    "\n",
    "\n",
    "from sklearn.metrics import classification_report, confusion_matrix, cohen_kappa_score, accuracy_score # type: ignore\n",
    "import seaborn as sns # type: ignore\n",
    "import matplotlib.pyplot as plt # type: ignore\n",
    "\n",
    "\n",
    "\n",
    "print(classification_report(y_total_test, y_pred))\n",
    "kappa = cohen_kappa_score(y_total_test, y_pred)\n",
    "print(f\"\\nKappa: {kappa:.4f}\")\n",
    "accuracy = accuracy_score(y_total_test, y_pred)\n",
    "print(f\"\\nAccuracy: {accuracy:.4f}\")\n",
    "cm = confusion_matrix(y_total_test, y_pred)\n",
    "plt.figure(figsize=(8,6))\n",
    "sns.heatmap(cm, annot=True, fmt='d', cmap='Blues')\n",
    "plt.xlabel('Tahmin')\n",
    "plt.ylabel('Gerçek')\n",
    "plt.title('Karmaşıklık Matrisi')\n",
    "plt.show()\n",
    "\n"
   ]
  },
  {
   "cell_type": "code",
   "execution_count": null,
   "id": "9ee954f6",
   "metadata": {},
   "outputs": [],
   "source": []
  },
  {
   "cell_type": "code",
   "execution_count": null,
   "id": "60fff56e",
   "metadata": {},
   "outputs": [],
   "source": []
  }
 ],
 "metadata": {
  "kernelspec": {
   "display_name": "Python 3",
   "language": "python",
   "name": "python3"
  },
  "language_info": {
   "codemirror_mode": {
    "name": "ipython",
    "version": 3
   },
   "file_extension": ".py",
   "mimetype": "text/x-python",
   "name": "python",
   "nbconvert_exporter": "python",
   "pygments_lexer": "ipython3",
   "version": "3.10.6"
  }
 },
 "nbformat": 4,
 "nbformat_minor": 5
}
